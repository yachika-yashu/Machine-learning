{
  "nbformat": 4,
  "nbformat_minor": 0,
  "metadata": {
    "colab": {
      "provenance": []
    },
    "kernelspec": {
      "name": "python3",
      "display_name": "Python 3"
    },
    "language_info": {
      "name": "python"
    }
  },
  "cells": [
    {
      "cell_type": "markdown",
      "source": [
        "## Demonstration on whether Multicolinearity affect prediction or not?"
      ],
      "metadata": {
        "id": "02EFWhpnaRau"
      }
    },
    {
      "cell_type": "code",
      "source": [
        "import numpy as np\n",
        "import pandas as pd\n",
        "import matplotlib.pyplot as plt\n",
        "from sklearn.linear_model import LinearRegression\n",
        "from sklearn.model_selection import train_test_split\n",
        "import statsmodels.api as sm\n",
        "\n",
        "# Seed for reproducibility\n",
        "np.random.seed(19)\n",
        "\n",
        "# Generate synthetic data\n",
        "n_samples = 100\n",
        "X1 = np.random.normal(0, 1, n_samples)\n",
        "X2 = 2 * X1 + np.random.normal(0, 0.1, n_samples)  # X2 highly correlated with X1\n",
        "y = 3 * X1 + 2 * X2 + np.random.normal(0, 1, n_samples)\n",
        "\n",
        "# Create a DataFrame\n",
        "data = pd.DataFrame({'X1': X1, 'X2': X2, 'y': y})\n",
        "\n",
        "# Split the data\n",
        "X = data[['X1', 'X2']]\n",
        "y = data['y']\n",
        "X_train, X_test, y_train, y_test = train_test_split(X, y, test_size=0.2, random_state=42)\n",
        "\n",
        "# Fit a linear regression model\n",
        "model = LinearRegression()\n",
        "model.fit(X_train, y_train)\n",
        "\n",
        "# Predict on the test set\n",
        "y_pred = model.predict(X_test)\n",
        "\n",
        "# Display the coefficients\n",
        "print(\"Coefficients:\", model.coef_)\n",
        "print(\"Intercept:\", model.intercept_)\n",
        "\n",
        "# Display the predictions\n",
        "print(\"Predictions:\", y_pred)\n",
        "\n",
        "# Display actual values\n",
        "print(\"Actual values:\", y_test.values)\n",
        "\n",
        "# Display the R-squared score\n",
        "print(\"R-squared score:\", model.score(X_test, y_test))\n",
        "\n",
        "# Use statsmodels for more detailed statistics\n",
        "X_train_sm = sm.add_constant(X_train)\n",
        "ols_model = sm.OLS(y_train, X_train_sm).fit()\n",
        "print(ols_model.summary())\n",
        "\n",
        "# Visualize the predictions\n",
        "plt.scatter(y_test, y_pred)\n",
        "plt.xlabel(\"Actual values\")\n",
        "plt.ylabel(\"Predicted values\")\n",
        "plt.title(\"Actual vs Predicted values\")\n",
        "plt.show()"
      ],
      "metadata": {
        "colab": {
          "base_uri": "https://localhost:8080/",
          "height": 1000
        },
        "id": "oFEgpTT2aOvM",
        "outputId": "6168713a-73f5-44e8-b32d-da3ff60a2756"
      },
      "execution_count": null,
      "outputs": [
        {
          "output_type": "stream",
          "name": "stdout",
          "text": [
            "Coefficients: [ 7.82975574 -0.35506105]\n",
            "Intercept: 0.05538294242873539\n",
            "Predictions: [ -8.25677018   2.25780167  -5.23098428  -4.92651182   2.97959446\n",
            "   2.70531829  11.16972937   3.30759815 -10.94470512   1.68484423\n",
            "   3.82928598  14.13943351   9.49933304  -3.36890348  -1.51832659\n",
            "  -4.23115591  -4.78889462  -0.68215734   0.10740839  13.66402891]\n",
            "Actual values: [ -9.18480789   1.89862658  -6.15211091  -4.64957931   2.32888989\n",
            "   3.49898934  10.15840282   3.02663273 -12.17106152  -0.19450888\n",
            "   4.45283699  13.87072588   7.54389661  -2.21001374  -1.37663505\n",
            "  -3.17231328  -3.345748    -1.00537557   0.07855777  12.6486582 ]\n",
            "R-squared score: 0.9780759660909195\n",
            "                            OLS Regression Results                            \n",
            "==============================================================================\n",
            "Dep. Variable:                      y   R-squared:                       0.974\n",
            "Model:                            OLS   Adj. R-squared:                  0.973\n",
            "Method:                 Least Squares   F-statistic:                     1449.\n",
            "Date:                Sat, 13 Jul 2024   Prob (F-statistic):           7.94e-62\n",
            "Time:                        14:05:22   Log-Likelihood:                -109.61\n",
            "No. Observations:                  80   AIC:                             225.2\n",
            "Df Residuals:                      77   BIC:                             232.4\n",
            "Df Model:                           2                                         \n",
            "Covariance Type:            nonrobust                                         \n",
            "==============================================================================\n",
            "                 coef    std err          t      P>|t|      [0.025      0.975]\n",
            "------------------------------------------------------------------------------\n",
            "const          0.0554      0.110      0.505      0.615      -0.163       0.274\n",
            "X1             7.8298      2.255      3.473      0.001       3.340      12.319\n",
            "X2            -0.3551      1.117     -0.318      0.751      -2.580       1.870\n",
            "==============================================================================\n",
            "Omnibus:                        0.928   Durbin-Watson:                   2.443\n",
            "Prob(Omnibus):                  0.629   Jarque-Bera (JB):                0.527\n",
            "Skew:                          -0.183   Prob(JB):                        0.768\n",
            "Kurtosis:                       3.156   Cond. No.                         42.9\n",
            "==============================================================================\n",
            "\n",
            "Notes:\n",
            "[1] Standard Errors assume that the covariance matrix of the errors is correctly specified.\n"
          ]
        },
        {
          "output_type": "display_data",
          "data": {
            "text/plain": [
              "<Figure size 640x480 with 1 Axes>"
            ],
            "image/png": "[encoded data removed]"
          },
          "metadata": {}
        }
      ]
    },
    {
      "cell_type": "code",
      "source": [],
      "metadata": {
        "id": "n79XsB1QaOx7"
      },
      "execution_count": null,
      "outputs": []
    },
    {
      "cell_type": "code",
      "source": [
        "# Split the data\n",
        "X = data[['X1']] # Removed X2 from our data\n",
        "y = data['y']\n",
        "X_train, X_test, y_train, y_test = train_test_split(X, y, test_size=0.2, random_state=42) # Using random_state same to get same split\n",
        "\n",
        "# Fit a linear regression model\n",
        "model = LinearRegression()\n",
        "model.fit(X_train, y_train)\n",
        "\n",
        "# Predict on the test set\n",
        "y_pred = model.predict(X_test)\n",
        "\n",
        "# Display the coefficients\n",
        "print(\"Coefficients:\", model.coef_)\n",
        "print(\"Intercept:\", model.intercept_)\n",
        "\n",
        "# Display the predictions\n",
        "print(\"Predictions:\", y_pred)\n",
        "\n",
        "# Display actual values\n",
        "print(\"Actual values:\", y_test.values)\n",
        "\n",
        "# Display the R-squared score\n",
        "print(\"R-squared score:\", model.score(X_test, y_test))\n",
        "\n",
        "# Use statsmodels for more detailed statistics\n",
        "X_train_sm = sm.add_constant(X_train)\n",
        "ols_model = sm.OLS(y_train, X_train_sm).fit()\n",
        "print(ols_model.summary())\n",
        "\n",
        "# Visualize the predictions\n",
        "plt.scatter(y_test, y_pred)\n",
        "plt.xlabel(\"Actual values\")\n",
        "plt.ylabel(\"Predicted values\")\n",
        "plt.title(\"Actual vs Predicted values\")\n",
        "plt.show()"
      ],
      "metadata": {
        "colab": {
          "base_uri": "https://localhost:8080/",
          "height": 1000
        },
        "id": "D4ROwPAyaapR",
        "outputId": "caa5932f-92a1-4a8e-ea5e-0807227a8122"
      },
      "execution_count": null,
      "outputs": [
        {
          "output_type": "stream",
          "name": "stdout",
          "text": [
            "Coefficients: [7.11440157]\n",
            "Intercept: 0.060390593241332044\n",
            "Predictions: [ -8.28250771   2.2515214   -5.33172505  -4.93303808   3.01629575\n",
            "   2.72715527  11.14833676   3.27780362 -10.95513134   1.63269655\n",
            "   3.80636669  14.1355849    9.50421933  -3.37808444  -1.49696913\n",
            "  -4.23165265  -4.7852587   -0.803173     0.05401461  13.70186201]\n",
            "Actual values: [ -9.18480789   1.89862658  -6.15211091  -4.64957931   2.32888989\n",
            "   3.49898934  10.15840282   3.02663273 -12.17106152  -0.19450888\n",
            "   4.45283699  13.87072588   7.54389661  -2.21001374  -1.37663505\n",
            "  -3.17231328  -3.345748    -1.00537557   0.07855777  12.6486582 ]\n",
            "R-squared score: 0.9785569288486123\n",
            "                            OLS Regression Results                            \n",
            "==============================================================================\n",
            "Dep. Variable:                      y   R-squared:                       0.974\n",
            "Model:                            OLS   Adj. R-squared:                  0.974\n",
            "Method:                 Least Squares   F-statistic:                     2932.\n",
            "Date:                Sat, 13 Jul 2024   Prob (F-statistic):           1.23e-63\n",
            "Time:                        14:05:26   Log-Likelihood:                -109.66\n",
            "No. Observations:                  80   AIC:                             223.3\n",
            "Df Residuals:                      78   BIC:                             228.1\n",
            "Df Model:                           1                                         \n",
            "Covariance Type:            nonrobust                                         \n",
            "==============================================================================\n",
            "                 coef    std err          t      P>|t|      [0.025      0.975]\n",
            "------------------------------------------------------------------------------\n",
            "const          0.0604      0.108      0.560      0.577      -0.154       0.275\n",
            "X1             7.1144      0.131     54.147      0.000       6.853       7.376\n",
            "==============================================================================\n",
            "Omnibus:                        1.037   Durbin-Watson:                   2.444\n",
            "Prob(Omnibus):                  0.595   Jarque-Bera (JB):                0.590\n",
            "Skew:                          -0.188   Prob(JB):                        0.744\n",
            "Kurtosis:                       3.191   Cond. No.                         1.22\n",
            "==============================================================================\n",
            "\n",
            "Notes:\n",
            "[1] Standard Errors assume that the covariance matrix of the errors is correctly specified.\n"
          ]
        },
        {
          "output_type": "display_data",
          "data": {
            "text/plain": [
              "<Figure size 640x480 with 1 Axes>"
            ],
            "image/png": "[encoded data removed]"
          },
          "metadata": {}
        }
      ]
    },
    {
      "cell_type": "markdown",
      "source": [
        "The results you provided show how multicollinearity affects the standard errors of the regression coefficients but does not significantly impact the model's predictive power.\n",
        "\n",
        "### Explanation:\n",
        "\n",
        "1. **With Multicollinearity (X1 and X2)**:\n",
        "    - **Coefficients**: `[ 7.82975574, -0.35506105]`\n",
        "    - **Intercept**: `0.05538294242873539`\n",
        "    - **R-squared score**: `0.9780759660909195`\n",
        "    - **OLS Regression Results**:\n",
        "        - Large standard errors for the coefficients (`X1: 2.255`, `X2: 1.117`).\n",
        "        - High `R-squared` value indicating good fit.\n",
        "\n",
        "2. **Without Multicollinearity (only X1)**:\n",
        "    - **Coefficients**: `[7.11440157]`\n",
        "    - **Intercept**: `0.060390593241332044`\n",
        "    - **R-squared score**: `0.9785569288486123`\n",
        "    - **OLS Regression Results**:\n",
        "        - Smaller standard error for the coefficient (`X1: 0.131`).\n",
        "        - High `R-squared` value indicating good fit.\n",
        "\n",
        "### Interpretation:\n",
        "\n",
        "- **Predictions**: The predictions remain accurate and close to the actual values in both cases. This demonstrates that multicollinearity does not significantly affect the model's ability to make predictions.\n",
        "\n",
        "- **Standard Errors**: When multicollinearity is present, the standard errors of the coefficients are inflated. This makes it difficult to determine the individual effect of each predictor. However, this does not degrade the model's predictive performance, as seen from the similar R-squared scores and prediction accuracy.\n",
        "\n"
      ],
      "metadata": {
        "id": "0ZBnormJa_1z"
      }
    },
    {
      "cell_type": "code",
      "source": [],
      "metadata": {
        "id": "EgEnrE8YabJE"
      },
      "execution_count": null,
      "outputs": []
    }
  ]
}